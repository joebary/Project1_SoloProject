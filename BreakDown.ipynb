{
 "cells": [
  {
   "cell_type": "markdown",
   "id": "df19fd16",
   "metadata": {},
   "source": [
    "# Full Code"
   ]
  },
  {
   "cell_type": "code",
   "execution_count": null,
   "id": "27bfd640",
   "metadata": {},
   "outputs": [],
   "source": [
    "import requests\n",
    "import json\n",
    "import questionary\n",
    "import pandas as pd\n",
    "import sys\n",
    "import fire\n",
    "import emoji\n",
    "\n",
    "url_data = \"https://api.exchangerate-api.com/v4/latest/USD\"\n",
    "\n",
    "class JoeCurrencyConverter:\n",
    "    def __init__(self, url = url_data):\n",
    "        \"These has all the attributes of the class\"\n",
    "        self.url = url_data\n",
    "        self.data = self.getData()\n",
    "        self.rate = self.data['rates']\n",
    "\n",
    "    def welcomeFunction(self):\n",
    "        heart = emoji.emojize(\":red_heart: :red_heart: :red_heart:\",variant=\"emoji_type\")\n",
    "        questionary.print(\"Hello, welcome to Joe's Currency Converter\", style=\"bold italic fg:darkred\")\n",
    "        questionary.print(heart)\n",
    "\n",
    "    def chooseAction(self):\n",
    "        action = questionary.rawselect(\n",
    "            \"What do you want to do? , \\n Please click on the number you would like to choose from your keyboard.\",\n",
    "            [\"Convert currencies.\",\n",
    "             \"Show top 10 highest currencies.\",\n",
    "             \"Show top 10 lowest currencies.\",\n",
    "             \"Quit the program.\"\n",
    "            ]).ask()\n",
    "        return action\n",
    "\n",
    "    def getData(self):\n",
    "        \"\"\"\n",
    "        To get the data using the exchangerate api\n",
    "        \"\"\"\n",
    "        return requests.get(self.url).json()\n",
    "\n",
    "    def showData(self, data):\n",
    "        \"\"\"\n",
    "        To show the data\n",
    "        \"\"\"\n",
    "        # Display the response data\n",
    "        print(json.dumps(data, indent=4, sort_keys=True))\n",
    "\n",
    "    def getDomesticCurrency(self):\n",
    "        \"\"\" Gets input from user about the domestic currency country\"\"\"\n",
    "        choice = questionary.select(\n",
    "            \"Which Domestic would you like to change from ? \",\n",
    "             list(self.rate.keys())\n",
    "        ).ask()\n",
    "        questionary.print(\"You chose \" + str(choice) + \" as your Domestic Currency\")\n",
    "        return choice\n",
    "\n",
    "    def getValueOfDomesticCurrency(self):\n",
    "        \"\"\" To get the amount that needs to be changed \"\"\"\n",
    "        i = 1\n",
    "        while (type(i) != float):\n",
    "            i = questionary.text(\"Enter the Value needed to be changed .... \").ask()\n",
    "            try:\n",
    "                i = float(i)\n",
    "                if type(i) == float:\n",
    "                    break\n",
    "            except:\n",
    "                print(\"Please enter a valid amount (numbers).... Thank you.\")\n",
    "        print(\"value entered is \")\n",
    "        print(i)\n",
    "        return i\n",
    "\n",
    "    def getForeignCurrency(self):\n",
    "        \"\"\" Gets input from user about the foreign currency country\"\"\"\n",
    "        choice = questionary.select(\n",
    "            \"Which Foreign currency would you like to ? \",\n",
    "             list(self.rate.keys())\n",
    "        ).ask()\n",
    "        questionary.print(\"You chose \" + str(choice) + \" as your Foreign Currency\")\n",
    "        return choice\n",
    "\n",
    "    def convert_currency(self, amount, domestic, foreign):\n",
    "        \"\"\"How to convert from domestic to foreign\"\"\"\n",
    "        final_val = amount * foreign / domestic\n",
    "        questionary.print(str(final_val))\n",
    "        return final_val\n",
    "\n",
    "    def get_df(self):\n",
    "        \"Creates a dataframe from the acquired\"\n",
    "        df = pd.DataFrame.from_dict(self.data)\n",
    "        df['country_ticker'] = df.index\n",
    "        df_rates = df[['country_ticker', 'rates']]\n",
    "        return df_rates\n",
    "\n",
    "    def show_top_highest_10(self, df_rates):\n",
    "        highest = df_rates.sort_values(by= \"rates\").iloc[0:10,:]\n",
    "        print(highest)\n",
    "        return highest\n",
    "\n",
    "    def show_top_lowest_10(self, df_rates):\n",
    "        lowest = df_rates.sort_values(by=\"rates\", ascending=False).iloc[0:10,:]\n",
    "        print(lowest)\n",
    "        return lowest\n",
    "\n",
    "    def quit(self):\n",
    "        sys.exit(\"Goodbye, hope to see you again!\")\n",
    "\n",
    "def run():\n",
    "\n",
    "    program = JoeCurrencyConverter()\n",
    "    program.welcomeFunction()\n",
    "    action = program.chooseAction()\n",
    "    df_rates = program.get_df()\n",
    "\n",
    "    if action == \"Convert currencies.\":\n",
    "\n",
    "        # current domestic currency\n",
    "        domestic_currency = program.getDomesticCurrency()\n",
    "\n",
    "        # value flooos, money.\n",
    "        val_domestic_currency = program.getValueOfDomesticCurrency()\n",
    "\n",
    "        # foreign currency country.\n",
    "        foreign_currency = program.getForeignCurrency()\n",
    "\n",
    "        # rates for dom, for.\n",
    "        dom = program.rate[domestic_currency]\n",
    "        foreign = program.rate[foreign_currency]\n",
    "\n",
    "        # calculating and printing to the screen.\n",
    "\n",
    "        program.convert_currency(val_domestic_currency, dom, foreign)\n",
    "        print(\" Thank you very much for using Joe's Currency converter!!!! \")\n",
    "    elif action == \"Show top 10 highest currencies.\":\n",
    "        # show the highest rates\n",
    "        program.show_top_highest_10(df_rates)\n",
    "        print(\" Thank you very much for using !!!! \")\n",
    "    elif action == \"Show top 10 lowest currencies.\":\n",
    "        # show the lowest rates.\n",
    "        program.show_top_lowest_10(df_rates)\n",
    "        print(\" Thank you very much for using Joe's Currency Converter !!!! \")\n",
    "    else:\n",
    "        # quit the whole program\n",
    "        program.quit()\n",
    "\n",
    "if __name__ == \"__main__\":\n",
    "    fire.Fire(run)"
   ]
  },
  {
   "cell_type": "markdown",
   "id": "10913568",
   "metadata": {},
   "source": [
    "Libraries"
   ]
  },
  {
   "cell_type": "code",
   "execution_count": null,
   "id": "62c99c4f",
   "metadata": {},
   "outputs": [],
   "source": [
    "import requests\n",
    "import json\n",
    "import questionary\n",
    "import pandas as pd\n",
    "import sys\n",
    "import fire\n",
    "import emoji"
   ]
  },
  {
   "cell_type": "markdown",
   "id": "077401fa",
   "metadata": {},
   "source": [
    "Global variables."
   ]
  },
  {
   "cell_type": "code",
   "execution_count": null,
   "id": "c3cb2a75",
   "metadata": {},
   "outputs": [],
   "source": [
    "url_data = \"https://api.exchangerate-api.com/v4/latest/USD\""
   ]
  },
  {
   "cell_type": "markdown",
   "id": "481f2db3",
   "metadata": {},
   "source": [
    "## 1- Class initialization with the following attributes/features.\n",
    "- url\n",
    "- data\n",
    "- rate\n",
    "\n",
    "- `__init__` initializes the class with attributes. (constructor) "
   ]
  },
  {
   "cell_type": "code",
   "execution_count": null,
   "id": "a6a2b155",
   "metadata": {},
   "outputs": [],
   "source": [
    "class JoeCurrencyConverter:\n",
    "    def __init__(self, url = url_data):\n",
    "        \"These has all the attributes of the class\"\n",
    "        self.url = url_data\n",
    "        self.data = self.getData()\n",
    "        self.rate = self.data['rates']"
   ]
  },
  {
   "cell_type": "markdown",
   "id": "62afc5a6",
   "metadata": {},
   "source": [
    "2- welcomeFunction\n",
    "Greets the user and uses the emoji library to generate hearts."
   ]
  },
  {
   "cell_type": "code",
   "execution_count": null,
   "id": "7efd4235",
   "metadata": {},
   "outputs": [],
   "source": [
    "def welcomeFunction(self):\n",
    "    heart = emoji.emojize(\":red_heart: :red_heart: :red_heart:\",variant=\"emoji_type\")\n",
    "    questionary.print(\"Hello, welcome to Joe's Currency Converter\", style=\"bold italic fg:darkred\")\n",
    "    questionary.print(heart)"
   ]
  },
  {
   "cell_type": "markdown",
   "id": "0f157b79",
   "metadata": {},
   "source": [
    "3- chooseAction\n",
    "we use `questionary.rawselect` to select between different options."
   ]
  },
  {
   "cell_type": "code",
   "execution_count": null,
   "id": "6b4077e2",
   "metadata": {},
   "outputs": [],
   "source": [
    "def chooseAction(self):\n",
    "    action = questionary.rawselect(\n",
    "        \"What do you want to do? , \\n Please click on the number you would like to choose from your keyboard.\",\n",
    "        [\"Convert currencies.\",\n",
    "         \"Show top 10 highest currencies.\",\n",
    "         \"Show top 10 lowest currencies.\",\n",
    "         \"Quit the program.\"\n",
    "        ]).ask()\n",
    "    return action"
   ]
  },
  {
   "cell_type": "markdown",
   "id": "990f6447",
   "metadata": {},
   "source": [
    "4- getData"
   ]
  },
  {
   "cell_type": "code",
   "execution_count": null,
   "id": "3fdbb5b5",
   "metadata": {},
   "outputs": [],
   "source": [
    "def getData(self):\n",
    "    \"\"\"\n",
    "    To get the data using the exchangerate api\n",
    "    \"\"\"\n",
    "    return requests.get(self.url).json()"
   ]
  },
  {
   "cell_type": "markdown",
   "id": "ea0a5e86",
   "metadata": {},
   "source": [
    "5- showData"
   ]
  },
  {
   "cell_type": "code",
   "execution_count": null,
   "id": "82815e28",
   "metadata": {},
   "outputs": [],
   "source": [
    "def showData(self, data):\n",
    "    \"\"\"\n",
    "    To show the data\n",
    "    \"\"\"\n",
    "    # Display the response data\n",
    "    print(json.dumps(data, indent=4, sort_keys=True))"
   ]
  }
 ],
 "metadata": {
  "kernelspec": {
   "display_name": "Python 3 (ipykernel)",
   "language": "python",
   "name": "python3"
  },
  "language_info": {
   "codemirror_mode": {
    "name": "ipython",
    "version": 3
   },
   "file_extension": ".py",
   "mimetype": "text/x-python",
   "name": "python",
   "nbconvert_exporter": "python",
   "pygments_lexer": "ipython3",
   "version": "3.8.10"
  }
 },
 "nbformat": 4,
 "nbformat_minor": 5
}
